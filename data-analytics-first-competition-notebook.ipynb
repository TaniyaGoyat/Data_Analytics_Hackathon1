{
 "cells": [
  {
   "cell_type": "code",
   "execution_count": 1,
   "id": "6e3671fc",
   "metadata": {
    "_cell_guid": "b1076dfc-b9ad-4769-8c92-a6c4dae69d19",
    "_uuid": "8f2839f25d086af736a60e9eeb907d3b93b6e0e5",
    "execution": {
     "iopub.execute_input": "2025-06-15T19:16:21.348383Z",
     "iopub.status.busy": "2025-06-15T19:16:21.347589Z",
     "iopub.status.idle": "2025-06-15T19:16:23.388507Z",
     "shell.execute_reply": "2025-06-15T19:16:23.387559Z"
    },
    "papermill": {
     "duration": 2.050189,
     "end_time": "2025-06-15T19:16:23.390375",
     "exception": false,
     "start_time": "2025-06-15T19:16:21.340186",
     "status": "completed"
    },
    "tags": []
   },
   "outputs": [
    {
     "name": "stdout",
     "output_type": "stream",
     "text": [
      "/kaggle/input/summer-analytics-mid-hackathon/hacktest.csv\n",
      "/kaggle/input/summer-analytics-mid-hackathon/hacktrain.csv\n"
     ]
    }
   ],
   "source": [
    "# This Python 3 environment comes with many helpful analytics libraries installed\n",
    "# It is defined by the kaggle/python Docker image: https://github.com/kaggle/docker-python\n",
    "# For example, here's several helpful packages to load\n",
    "\n",
    "import numpy as np # linear algebra\n",
    "import pandas as pd # data processing, CSV file I/O (e.g. pd.read_csv)\n",
    "\n",
    "# Input data files are available in the read-only \"../input/\" directory\n",
    "# For example, running this (by clicking run or pressing Shift+Enter) will list all files under the input directory\n",
    "\n",
    "import os\n",
    "for dirname, _, filenames in os.walk('/kaggle/input'):\n",
    "    for filename in filenames:\n",
    "        print(os.path.join(dirname, filename))\n",
    "\n",
    "# You can write up to 20GB to the current directory (/kaggle/working/) that gets preserved as output when you create a version using \"Save & Run All\" \n",
    "# You can also write temporary files to /kaggle/temp/, but they won't be saved outside of the current session"
   ]
  },
  {
   "cell_type": "code",
   "execution_count": 2,
   "id": "75e1ec58",
   "metadata": {
    "execution": {
     "iopub.execute_input": "2025-06-15T19:16:23.412383Z",
     "iopub.status.busy": "2025-06-15T19:16:23.411462Z",
     "iopub.status.idle": "2025-06-15T19:16:23.537037Z",
     "shell.execute_reply": "2025-06-15T19:16:23.536143Z"
    },
    "papermill": {
     "duration": 0.138069,
     "end_time": "2025-06-15T19:16:23.538464",
     "exception": false,
     "start_time": "2025-06-15T19:16:23.400395",
     "status": "completed"
    },
    "tags": []
   },
   "outputs": [
    {
     "name": "stderr",
     "output_type": "stream",
     "text": [
      "/usr/local/lib/python3.11/dist-packages/pandas/io/formats/format.py:1458: RuntimeWarning: invalid value encountered in greater\n",
      "  has_large_values = (abs_vals > 1e6).any()\n",
      "/usr/local/lib/python3.11/dist-packages/pandas/io/formats/format.py:1459: RuntimeWarning: invalid value encountered in less\n",
      "  has_small_values = ((abs_vals < 10 ** (-self.digits)) & (abs_vals > 0)).any()\n",
      "/usr/local/lib/python3.11/dist-packages/pandas/io/formats/format.py:1459: RuntimeWarning: invalid value encountered in greater\n",
      "  has_small_values = ((abs_vals < 10 ** (-self.digits)) & (abs_vals > 0)).any()\n",
      "/usr/local/lib/python3.11/dist-packages/pandas/io/formats/format.py:1458: RuntimeWarning: invalid value encountered in greater\n",
      "  has_large_values = (abs_vals > 1e6).any()\n",
      "/usr/local/lib/python3.11/dist-packages/pandas/io/formats/format.py:1459: RuntimeWarning: invalid value encountered in less\n",
      "  has_small_values = ((abs_vals < 10 ** (-self.digits)) & (abs_vals > 0)).any()\n",
      "/usr/local/lib/python3.11/dist-packages/pandas/io/formats/format.py:1459: RuntimeWarning: invalid value encountered in greater\n",
      "  has_small_values = ((abs_vals < 10 ** (-self.digits)) & (abs_vals > 0)).any()\n"
     ]
    },
    {
     "data": {
      "text/html": [
       "<div>\n",
       "<style scoped>\n",
       "    .dataframe tbody tr th:only-of-type {\n",
       "        vertical-align: middle;\n",
       "    }\n",
       "\n",
       "    .dataframe tbody tr th {\n",
       "        vertical-align: top;\n",
       "    }\n",
       "\n",
       "    .dataframe thead th {\n",
       "        text-align: right;\n",
       "    }\n",
       "</style>\n",
       "<table border=\"1\" class=\"dataframe\">\n",
       "  <thead>\n",
       "    <tr style=\"text-align: right;\">\n",
       "      <th></th>\n",
       "      <th>Unnamed: 0</th>\n",
       "      <th>ID</th>\n",
       "      <th>class</th>\n",
       "      <th>20150720_N</th>\n",
       "      <th>20150602_N</th>\n",
       "      <th>20150517_N</th>\n",
       "      <th>20150501_N</th>\n",
       "      <th>20150415_N</th>\n",
       "      <th>20150330_N</th>\n",
       "      <th>20150314_N</th>\n",
       "      <th>...</th>\n",
       "      <th>20140610_N</th>\n",
       "      <th>20140525_N</th>\n",
       "      <th>20140509_N</th>\n",
       "      <th>20140423_N</th>\n",
       "      <th>20140407_N</th>\n",
       "      <th>20140322_N</th>\n",
       "      <th>20140218_N</th>\n",
       "      <th>20140202_N</th>\n",
       "      <th>20140117_N</th>\n",
       "      <th>20140101_N</th>\n",
       "    </tr>\n",
       "  </thead>\n",
       "  <tbody>\n",
       "    <tr>\n",
       "      <th>0</th>\n",
       "      <td>0</td>\n",
       "      <td>1</td>\n",
       "      <td>water</td>\n",
       "      <td>637.5950</td>\n",
       "      <td>658.668</td>\n",
       "      <td>-1882.030</td>\n",
       "      <td>-1924.36</td>\n",
       "      <td>997.904</td>\n",
       "      <td>-1739.990</td>\n",
       "      <td>630.087</td>\n",
       "      <td>...</td>\n",
       "      <td>NaN</td>\n",
       "      <td>-1043.160</td>\n",
       "      <td>-1942.490</td>\n",
       "      <td>267.138</td>\n",
       "      <td>NaN</td>\n",
       "      <td>NaN</td>\n",
       "      <td>211.328</td>\n",
       "      <td>-2203.020</td>\n",
       "      <td>-1180.19</td>\n",
       "      <td>433.906</td>\n",
       "    </tr>\n",
       "    <tr>\n",
       "      <th>1</th>\n",
       "      <td>1</td>\n",
       "      <td>2</td>\n",
       "      <td>water</td>\n",
       "      <td>634.2400</td>\n",
       "      <td>593.705</td>\n",
       "      <td>-1625.790</td>\n",
       "      <td>-1672.32</td>\n",
       "      <td>914.198</td>\n",
       "      <td>-692.386</td>\n",
       "      <td>707.626</td>\n",
       "      <td>...</td>\n",
       "      <td>NaN</td>\n",
       "      <td>-933.934</td>\n",
       "      <td>-625.385</td>\n",
       "      <td>120.059</td>\n",
       "      <td>364.858</td>\n",
       "      <td>476.972</td>\n",
       "      <td>220.878</td>\n",
       "      <td>-2250.000</td>\n",
       "      <td>-1360.56</td>\n",
       "      <td>524.075</td>\n",
       "    </tr>\n",
       "    <tr>\n",
       "      <th>2</th>\n",
       "      <td>3</td>\n",
       "      <td>4</td>\n",
       "      <td>water</td>\n",
       "      <td>58.0174</td>\n",
       "      <td>-1599.160</td>\n",
       "      <td>NaN</td>\n",
       "      <td>-1052.63</td>\n",
       "      <td>NaN</td>\n",
       "      <td>-1564.630</td>\n",
       "      <td>NaN</td>\n",
       "      <td>...</td>\n",
       "      <td>-1025.880</td>\n",
       "      <td>368.622</td>\n",
       "      <td>NaN</td>\n",
       "      <td>-1227.800</td>\n",
       "      <td>304.621</td>\n",
       "      <td>NaN</td>\n",
       "      <td>369.214</td>\n",
       "      <td>-2202.120</td>\n",
       "      <td>NaN</td>\n",
       "      <td>-1343.550</td>\n",
       "    </tr>\n",
       "    <tr>\n",
       "      <th>3</th>\n",
       "      <td>4</td>\n",
       "      <td>5</td>\n",
       "      <td>water</td>\n",
       "      <td>72.5180</td>\n",
       "      <td>NaN</td>\n",
       "      <td>380.436</td>\n",
       "      <td>-1256.93</td>\n",
       "      <td>515.805</td>\n",
       "      <td>-1413.180</td>\n",
       "      <td>-802.942</td>\n",
       "      <td>...</td>\n",
       "      <td>-1813.950</td>\n",
       "      <td>155.624</td>\n",
       "      <td>NaN</td>\n",
       "      <td>-924.073</td>\n",
       "      <td>432.150</td>\n",
       "      <td>282.833</td>\n",
       "      <td>298.320</td>\n",
       "      <td>-2197.360</td>\n",
       "      <td>NaN</td>\n",
       "      <td>-826.727</td>\n",
       "    </tr>\n",
       "    <tr>\n",
       "      <th>4</th>\n",
       "      <td>7</td>\n",
       "      <td>8</td>\n",
       "      <td>water</td>\n",
       "      <td>1136.4400</td>\n",
       "      <td>NaN</td>\n",
       "      <td>NaN</td>\n",
       "      <td>1647.83</td>\n",
       "      <td>1935.800</td>\n",
       "      <td>NaN</td>\n",
       "      <td>2158.980</td>\n",
       "      <td>...</td>\n",
       "      <td>1535.000</td>\n",
       "      <td>1959.430</td>\n",
       "      <td>-279.317</td>\n",
       "      <td>-384.915</td>\n",
       "      <td>-113.406</td>\n",
       "      <td>1020.720</td>\n",
       "      <td>1660.650</td>\n",
       "      <td>-116.801</td>\n",
       "      <td>-568.05</td>\n",
       "      <td>-1357.140</td>\n",
       "    </tr>\n",
       "    <tr>\n",
       "      <th>...</th>\n",
       "      <td>...</td>\n",
       "      <td>...</td>\n",
       "      <td>...</td>\n",
       "      <td>...</td>\n",
       "      <td>...</td>\n",
       "      <td>...</td>\n",
       "      <td>...</td>\n",
       "      <td>...</td>\n",
       "      <td>...</td>\n",
       "      <td>...</td>\n",
       "      <td>...</td>\n",
       "      <td>...</td>\n",
       "      <td>...</td>\n",
       "      <td>...</td>\n",
       "      <td>...</td>\n",
       "      <td>...</td>\n",
       "      <td>...</td>\n",
       "      <td>...</td>\n",
       "      <td>...</td>\n",
       "      <td>...</td>\n",
       "      <td>...</td>\n",
       "    </tr>\n",
       "    <tr>\n",
       "      <th>7995</th>\n",
       "      <td>10537</td>\n",
       "      <td>10538</td>\n",
       "      <td>impervious</td>\n",
       "      <td>1207.7000</td>\n",
       "      <td>984.620</td>\n",
       "      <td>NaN</td>\n",
       "      <td>1166.25</td>\n",
       "      <td>937.478</td>\n",
       "      <td>1072.700</td>\n",
       "      <td>823.896</td>\n",
       "      <td>...</td>\n",
       "      <td>1117.740</td>\n",
       "      <td>1176.600</td>\n",
       "      <td>1044.110</td>\n",
       "      <td>NaN</td>\n",
       "      <td>369.082</td>\n",
       "      <td>465.843</td>\n",
       "      <td>362.882</td>\n",
       "      <td>979.795</td>\n",
       "      <td>NaN</td>\n",
       "      <td>433.659</td>\n",
       "    </tr>\n",
       "    <tr>\n",
       "      <th>7996</th>\n",
       "      <td>10538</td>\n",
       "      <td>10539</td>\n",
       "      <td>impervious</td>\n",
       "      <td>2170.3500</td>\n",
       "      <td>1419.720</td>\n",
       "      <td>1361.000</td>\n",
       "      <td>1478.71</td>\n",
       "      <td>983.911</td>\n",
       "      <td>1262.110</td>\n",
       "      <td>1422.860</td>\n",
       "      <td>...</td>\n",
       "      <td>984.634</td>\n",
       "      <td>2128.970</td>\n",
       "      <td>1379.660</td>\n",
       "      <td>NaN</td>\n",
       "      <td>762.633</td>\n",
       "      <td>485.204</td>\n",
       "      <td>446.724</td>\n",
       "      <td>771.747</td>\n",
       "      <td>1589.06</td>\n",
       "      <td>506.936</td>\n",
       "    </tr>\n",
       "    <tr>\n",
       "      <th>7997</th>\n",
       "      <td>10541</td>\n",
       "      <td>10542</td>\n",
       "      <td>impervious</td>\n",
       "      <td>1895.6800</td>\n",
       "      <td>1454.740</td>\n",
       "      <td>NaN</td>\n",
       "      <td>1033.56</td>\n",
       "      <td>1930.380</td>\n",
       "      <td>1057.150</td>\n",
       "      <td>1471.600</td>\n",
       "      <td>...</td>\n",
       "      <td>888.408</td>\n",
       "      <td>2093.020</td>\n",
       "      <td>1232.110</td>\n",
       "      <td>1190.830</td>\n",
       "      <td>1441.460</td>\n",
       "      <td>1170.880</td>\n",
       "      <td>1095.000</td>\n",
       "      <td>1818.650</td>\n",
       "      <td>2501.72</td>\n",
       "      <td>1247.770</td>\n",
       "    </tr>\n",
       "    <tr>\n",
       "      <th>7998</th>\n",
       "      <td>10542</td>\n",
       "      <td>10543</td>\n",
       "      <td>impervious</td>\n",
       "      <td>3465.7400</td>\n",
       "      <td>1283.320</td>\n",
       "      <td>413.412</td>\n",
       "      <td>4391.05</td>\n",
       "      <td>1146.820</td>\n",
       "      <td>4473.050</td>\n",
       "      <td>1614.750</td>\n",
       "      <td>...</td>\n",
       "      <td>5833.760</td>\n",
       "      <td>4047.320</td>\n",
       "      <td>4515.800</td>\n",
       "      <td>433.177</td>\n",
       "      <td>277.296</td>\n",
       "      <td>744.143</td>\n",
       "      <td>NaN</td>\n",
       "      <td>3759.710</td>\n",
       "      <td>NaN</td>\n",
       "      <td>388.346</td>\n",
       "    </tr>\n",
       "    <tr>\n",
       "      <th>7999</th>\n",
       "      <td>10544</td>\n",
       "      <td>10545</td>\n",
       "      <td>impervious</td>\n",
       "      <td>6941.1900</td>\n",
       "      <td>1667.870</td>\n",
       "      <td>5084.780</td>\n",
       "      <td>NaN</td>\n",
       "      <td>1588.950</td>\n",
       "      <td>5978.190</td>\n",
       "      <td>NaN</td>\n",
       "      <td>...</td>\n",
       "      <td>7352.570</td>\n",
       "      <td>3289.860</td>\n",
       "      <td>3729.150</td>\n",
       "      <td>1994.980</td>\n",
       "      <td>NaN</td>\n",
       "      <td>5299.900</td>\n",
       "      <td>NaN</td>\n",
       "      <td>5983.130</td>\n",
       "      <td>1249.71</td>\n",
       "      <td>2424.230</td>\n",
       "    </tr>\n",
       "  </tbody>\n",
       "</table>\n",
       "<p>8000 rows × 30 columns</p>\n",
       "</div>"
      ],
      "text/plain": [
       "      Unnamed: 0     ID       class  20150720_N  20150602_N  20150517_N  \\\n",
       "0              0      1       water    637.5950     658.668   -1882.030   \n",
       "1              1      2       water    634.2400     593.705   -1625.790   \n",
       "2              3      4       water     58.0174   -1599.160         NaN   \n",
       "3              4      5       water     72.5180         NaN     380.436   \n",
       "4              7      8       water   1136.4400         NaN         NaN   \n",
       "...          ...    ...         ...         ...         ...         ...   \n",
       "7995       10537  10538  impervious   1207.7000     984.620         NaN   \n",
       "7996       10538  10539  impervious   2170.3500    1419.720    1361.000   \n",
       "7997       10541  10542  impervious   1895.6800    1454.740         NaN   \n",
       "7998       10542  10543  impervious   3465.7400    1283.320     413.412   \n",
       "7999       10544  10545  impervious   6941.1900    1667.870    5084.780   \n",
       "\n",
       "      20150501_N  20150415_N  20150330_N  20150314_N  ...  20140610_N  \\\n",
       "0       -1924.36     997.904   -1739.990     630.087  ...         NaN   \n",
       "1       -1672.32     914.198    -692.386     707.626  ...         NaN   \n",
       "2       -1052.63         NaN   -1564.630         NaN  ...   -1025.880   \n",
       "3       -1256.93     515.805   -1413.180    -802.942  ...   -1813.950   \n",
       "4        1647.83    1935.800         NaN    2158.980  ...    1535.000   \n",
       "...          ...         ...         ...         ...  ...         ...   \n",
       "7995     1166.25     937.478    1072.700     823.896  ...    1117.740   \n",
       "7996     1478.71     983.911    1262.110    1422.860  ...     984.634   \n",
       "7997     1033.56    1930.380    1057.150    1471.600  ...     888.408   \n",
       "7998     4391.05    1146.820    4473.050    1614.750  ...    5833.760   \n",
       "7999         NaN    1588.950    5978.190         NaN  ...    7352.570   \n",
       "\n",
       "      20140525_N  20140509_N  20140423_N  20140407_N  20140322_N  20140218_N  \\\n",
       "0      -1043.160   -1942.490     267.138         NaN         NaN     211.328   \n",
       "1       -933.934    -625.385     120.059     364.858     476.972     220.878   \n",
       "2        368.622         NaN   -1227.800     304.621         NaN     369.214   \n",
       "3        155.624         NaN    -924.073     432.150     282.833     298.320   \n",
       "4       1959.430    -279.317    -384.915    -113.406    1020.720    1660.650   \n",
       "...          ...         ...         ...         ...         ...         ...   \n",
       "7995    1176.600    1044.110         NaN     369.082     465.843     362.882   \n",
       "7996    2128.970    1379.660         NaN     762.633     485.204     446.724   \n",
       "7997    2093.020    1232.110    1190.830    1441.460    1170.880    1095.000   \n",
       "7998    4047.320    4515.800     433.177     277.296     744.143         NaN   \n",
       "7999    3289.860    3729.150    1994.980         NaN    5299.900         NaN   \n",
       "\n",
       "      20140202_N  20140117_N  20140101_N  \n",
       "0      -2203.020    -1180.19     433.906  \n",
       "1      -2250.000    -1360.56     524.075  \n",
       "2      -2202.120         NaN   -1343.550  \n",
       "3      -2197.360         NaN    -826.727  \n",
       "4       -116.801     -568.05   -1357.140  \n",
       "...          ...         ...         ...  \n",
       "7995     979.795         NaN     433.659  \n",
       "7996     771.747     1589.06     506.936  \n",
       "7997    1818.650     2501.72    1247.770  \n",
       "7998    3759.710         NaN     388.346  \n",
       "7999    5983.130     1249.71    2424.230  \n",
       "\n",
       "[8000 rows x 30 columns]"
      ]
     },
     "execution_count": 2,
     "metadata": {},
     "output_type": "execute_result"
    }
   ],
   "source": [
    "df = pd.read_csv(\"/kaggle/input/summer-analytics-mid-hackathon/hacktrain.csv\")\n",
    "df #ignore the warnings"
   ]
  },
  {
   "cell_type": "code",
   "execution_count": 3,
   "id": "d043c27b",
   "metadata": {
    "execution": {
     "iopub.execute_input": "2025-06-15T19:16:23.551517Z",
     "iopub.status.busy": "2025-06-15T19:16:23.551204Z",
     "iopub.status.idle": "2025-06-15T19:16:25.612030Z",
     "shell.execute_reply": "2025-06-15T19:16:25.611033Z"
    },
    "papermill": {
     "duration": 2.069362,
     "end_time": "2025-06-15T19:16:25.613807",
     "exception": false,
     "start_time": "2025-06-15T19:16:23.544445",
     "status": "completed"
    },
    "tags": []
   },
   "outputs": [],
   "source": [
    "\n",
    "# Import libraries\n",
    "import numpy as np\n",
    "import pandas as pd\n",
    "import os\n",
    "from sklearn.linear_model import LogisticRegression\n",
    "from sklearn.model_selection import train_test_split, cross_val_score, GridSearchCV\n",
    "from sklearn.preprocessing import LabelEncoder, StandardScaler, RobustScaler\n",
    "from sklearn.metrics import classification_report, accuracy_score\n",
    "from sklearn.feature_selection import SelectKBest, f_classif\n",
    "import warnings\n",
    "warnings.filterwarnings('ignore')"
   ]
  },
  {
   "cell_type": "code",
   "execution_count": 4,
   "id": "8b9cb51e",
   "metadata": {
    "execution": {
     "iopub.execute_input": "2025-06-15T19:16:25.627233Z",
     "iopub.status.busy": "2025-06-15T19:16:25.626709Z",
     "iopub.status.idle": "2025-06-15T19:16:25.635676Z",
     "shell.execute_reply": "2025-06-15T19:16:25.634684Z"
    },
    "papermill": {
     "duration": 0.017599,
     "end_time": "2025-06-15T19:16:25.637382",
     "exception": false,
     "start_time": "2025-06-15T19:16:25.619783",
     "status": "completed"
    },
    "tags": []
   },
   "outputs": [],
   "source": [
    "# Data preprocessing function\n",
    "def preprocess_data(data, is_training=True, preprocessing_components=None):\n",
    "    \"\"\"\n",
    "    Comprehensive data preprocessing function\n",
    "    \"\"\"\n",
    "    df_clean = data.copy()\n",
    "    \n",
    "    # Remove unnamed columns\n",
    "    unnamed_cols = [col for col in df_clean.columns if 'Unnamed' in col]\n",
    "    if unnamed_cols:\n",
    "        df_clean = df_clean.drop(columns=unnamed_cols)\n",
    "        print(f\"Dropped unnamed columns: {unnamed_cols}\")\n",
    "    \n",
    "    # Handle missing values intelligently\n",
    "    for col in df_clean.columns:\n",
    "        if col in ['ID', 'class']:\n",
    "            continue\n",
    "            \n",
    "        missing_ratio = df_clean[col].isnull().mean()\n",
    "        \n",
    "        if missing_ratio == 0:\n",
    "            continue\n",
    "        elif missing_ratio <= 0.3:\n",
    "            # Use training data statistics for test data\n",
    "            if is_training:\n",
    "                fill_value = df_clean[col].mean()\n",
    "            else:\n",
    "                fill_value = preprocessing_components['fill_values'].get(col, df_clean[col].mean())\n",
    "            df_clean[col] = df_clean[col].fillna(fill_value)\n",
    "            \n",
    "        elif missing_ratio <= 0.5:\n",
    "            if is_training:\n",
    "                fill_value = df_clean[col].median()\n",
    "            else:\n",
    "                fill_value = preprocessing_components['fill_values'].get(col, df_clean[col].median())\n",
    "            df_clean[col] = df_clean[col].fillna(fill_value)\n",
    "        else:\n",
    "            print(f\"Dropping column: {col} (missing {missing_ratio*100:.1f}%)\")\n",
    "            df_clean = df_clean.drop(columns=[col])\n",
    "    \n",
    "    return df_clean"
   ]
  },
  {
   "cell_type": "code",
   "execution_count": 5,
   "id": "985e9c23",
   "metadata": {
    "execution": {
     "iopub.execute_input": "2025-06-15T19:16:25.650821Z",
     "iopub.status.busy": "2025-06-15T19:16:25.650458Z",
     "iopub.status.idle": "2025-06-15T19:16:25.679084Z",
     "shell.execute_reply": "2025-06-15T19:16:25.677994Z"
    },
    "papermill": {
     "duration": 0.037334,
     "end_time": "2025-06-15T19:16:25.680672",
     "exception": false,
     "start_time": "2025-06-15T19:16:25.643338",
     "status": "completed"
    },
    "tags": []
   },
   "outputs": [
    {
     "name": "stdout",
     "output_type": "stream",
     "text": [
      "\n",
      "Preprocessing training data...\n",
      "Dropped unnamed columns: ['Unnamed: 0']\n"
     ]
    }
   ],
   "source": [
    "# Preprocess training data\n",
    "print(\"\\nPreprocessing training data...\")\n",
    "df_processed = preprocess_data(df, is_training=True)"
   ]
  },
  {
   "cell_type": "code",
   "execution_count": 6,
   "id": "243f82d3",
   "metadata": {
    "execution": {
     "iopub.execute_input": "2025-06-15T19:16:25.693527Z",
     "iopub.status.busy": "2025-06-15T19:16:25.693206Z",
     "iopub.status.idle": "2025-06-15T19:16:25.709711Z",
     "shell.execute_reply": "2025-06-15T19:16:25.708536Z"
    },
    "papermill": {
     "duration": 0.024996,
     "end_time": "2025-06-15T19:16:25.711449",
     "exception": false,
     "start_time": "2025-06-15T19:16:25.686453",
     "status": "completed"
    },
    "tags": []
   },
   "outputs": [
    {
     "name": "stdout",
     "output_type": "stream",
     "text": [
      "Processed training data shape: (8000, 29)\n",
      "Class distribution:\n",
      "class\n",
      "forest        6159\n",
      "farm           841\n",
      "impervious     669\n",
      "grass          196\n",
      "water          105\n",
      "orchard         30\n",
      "Name: count, dtype: int64\n"
     ]
    }
   ],
   "source": [
    "# Create fill values dictionary for test data consistency\n",
    "fill_values = {}\n",
    "for col in df_processed.columns:\n",
    "    if col not in ['ID', 'class']:\n",
    "        missing_ratio = df_processed[col].isnull().mean()\n",
    "        if missing_ratio > 0:\n",
    "            if missing_ratio <= 0.3:\n",
    "                fill_values[col] = df_processed[col].mean()\n",
    "            else:\n",
    "                fill_values[col] = df_processed[col].median()\n",
    "\n",
    "print(f\"Processed training data shape: {df_processed.shape}\")\n",
    "print(f\"Class distribution:\\n{df_processed['class'].value_counts()}\")"
   ]
  },
  {
   "cell_type": "code",
   "execution_count": 7,
   "id": "cb536372",
   "metadata": {
    "execution": {
     "iopub.execute_input": "2025-06-15T19:16:25.725428Z",
     "iopub.status.busy": "2025-06-15T19:16:25.725118Z",
     "iopub.status.idle": "2025-06-15T19:16:25.736092Z",
     "shell.execute_reply": "2025-06-15T19:16:25.735082Z"
    },
    "papermill": {
     "duration": 0.019508,
     "end_time": "2025-06-15T19:16:25.737555",
     "exception": false,
     "start_time": "2025-06-15T19:16:25.718047",
     "status": "completed"
    },
    "tags": []
   },
   "outputs": [
    {
     "name": "stdout",
     "output_type": "stream",
     "text": [
      "\n",
      "Classes: ['farm' 'forest' 'grass' 'impervious' 'orchard' 'water']\n",
      "\n",
      "Original feature matrix shape: (8000, 27)\n"
     ]
    }
   ],
   "source": [
    "# Encode class labels\n",
    "label_encoder = LabelEncoder()\n",
    "df_processed['class'] = label_encoder.fit_transform(df_processed['class'])\n",
    "print(f\"\\nClasses: {label_encoder.classes_}\")\n",
    "\n",
    "# Separate features and target\n",
    "X = df_processed.drop(columns=['ID', 'class'])\n",
    "y = df_processed['class']\n",
    "\n",
    "print(f\"\\nOriginal feature matrix shape: {X.shape}\")"
   ]
  },
  {
   "cell_type": "code",
   "execution_count": 8,
   "id": "5467a2d8",
   "metadata": {
    "execution": {
     "iopub.execute_input": "2025-06-15T19:16:25.751616Z",
     "iopub.status.busy": "2025-06-15T19:16:25.751283Z",
     "iopub.status.idle": "2025-06-15T19:16:25.785363Z",
     "shell.execute_reply": "2025-06-15T19:16:25.784204Z"
    },
    "papermill": {
     "duration": 0.043214,
     "end_time": "2025-06-15T19:16:25.787121",
     "exception": false,
     "start_time": "2025-06-15T19:16:25.743907",
     "status": "completed"
    },
    "tags": []
   },
   "outputs": [
    {
     "name": "stdout",
     "output_type": "stream",
     "text": [
      "\n",
      "Removing highly correlated features...\n",
      "Removing 0 highly correlated features\n"
     ]
    }
   ],
   "source": [
    "# Feature engineering: Remove highly correlated features\n",
    "print(\"\\nRemoving highly correlated features...\")\n",
    "correlation_matrix = X.corr().abs()\n",
    "upper_triangle = correlation_matrix.where(\n",
    "    np.triu(np.ones(correlation_matrix.shape), k=1).astype(bool)\n",
    ")\n",
    "high_corr_features = [column for column in upper_triangle.columns \n",
    "                     if any(upper_triangle[column] > 0.95)]\n",
    "print(f\"Removing {len(high_corr_features)} highly correlated features\")\n",
    "X = X.drop(columns=high_corr_features)"
   ]
  },
  {
   "cell_type": "code",
   "execution_count": 9,
   "id": "e5a4f3af",
   "metadata": {
    "execution": {
     "iopub.execute_input": "2025-06-15T19:16:25.801170Z",
     "iopub.status.busy": "2025-06-15T19:16:25.800335Z",
     "iopub.status.idle": "2025-06-15T19:16:25.854315Z",
     "shell.execute_reply": "2025-06-15T19:16:25.853261Z"
    },
    "papermill": {
     "duration": 0.062521,
     "end_time": "2025-06-15T19:16:25.855897",
     "exception": false,
     "start_time": "2025-06-15T19:16:25.793376",
     "status": "completed"
    },
    "tags": []
   },
   "outputs": [
    {
     "name": "stdout",
     "output_type": "stream",
     "text": [
      "\n",
      "Selecting most important features...\n",
      "Selected 25 most important features\n"
     ]
    }
   ],
   "source": [
    "# Feature selection for Logistic Regression\n",
    "print(\"\\nSelecting most important features...\")\n",
    "selector = SelectKBest(score_func=f_classif, k=min(25, X.shape[1]))  # Select top 25 features for LogReg\n",
    "X_selected = selector.fit_transform(X, y)\n",
    "selected_features = X.columns[selector.get_support()]\n",
    "print(f\"Selected {len(selected_features)} most important features\")\n",
    "\n",
    "# Train-test split\n",
    "X_train, X_val, y_train, y_val = train_test_split(\n",
    "    X_selected, y, test_size=0.2, random_state=42, stratify=y\n",
    ")"
   ]
  },
  {
   "cell_type": "code",
   "execution_count": 10,
   "id": "0d4beb74",
   "metadata": {
    "execution": {
     "iopub.execute_input": "2025-06-15T19:16:25.869927Z",
     "iopub.status.busy": "2025-06-15T19:16:25.869605Z",
     "iopub.status.idle": "2025-06-15T19:16:25.893354Z",
     "shell.execute_reply": "2025-06-15T19:16:25.892369Z"
    },
    "papermill": {
     "duration": 0.03246,
     "end_time": "2025-06-15T19:16:25.895178",
     "exception": false,
     "start_time": "2025-06-15T19:16:25.862718",
     "status": "completed"
    },
    "tags": []
   },
   "outputs": [],
   "source": [
    "# Scale features - StandardScaler works well with Logistic Regression\n",
    "scaler = StandardScaler()\n",
    "X_train_scaled = scaler.fit_transform(X_train)\n",
    "X_val_scaled = scaler.transform(X_val)"
   ]
  },
  {
   "cell_type": "code",
   "execution_count": 11,
   "id": "3910cc13",
   "metadata": {
    "execution": {
     "iopub.execute_input": "2025-06-15T19:16:25.908421Z",
     "iopub.status.busy": "2025-06-15T19:16:25.908128Z",
     "iopub.status.idle": "2025-06-15T19:16:25.914015Z",
     "shell.execute_reply": "2025-06-15T19:16:25.912879Z"
    },
    "papermill": {
     "duration": 0.014236,
     "end_time": "2025-06-15T19:16:25.915575",
     "exception": false,
     "start_time": "2025-06-15T19:16:25.901339",
     "status": "completed"
    },
    "tags": []
   },
   "outputs": [
    {
     "name": "stdout",
     "output_type": "stream",
     "text": [
      "\n",
      "============================================================\n",
      "TRAINING LOGISTIC REGRESSION MODEL\n",
      "============================================================\n"
     ]
    }
   ],
   "source": [
    "# Initial Logistic Regression model\n",
    "print(\"\\n\" + \"=\"*60)\n",
    "print(\"TRAINING LOGISTIC REGRESSION MODEL\")\n",
    "print(\"=\"*60)\n",
    "\n",
    "# Base model\n",
    "base_model = LogisticRegression(\n",
    "    multi_class='multinomial',\n",
    "    solver='lbfgs',\n",
    "    max_iter=2000,\n",
    "    class_weight='balanced',\n",
    "    random_state=42\n",
    ")"
   ]
  },
  {
   "cell_type": "code",
   "execution_count": 12,
   "id": "f8dd81fa",
   "metadata": {
    "execution": {
     "iopub.execute_input": "2025-06-15T19:16:25.929451Z",
     "iopub.status.busy": "2025-06-15T19:16:25.928675Z",
     "iopub.status.idle": "2025-06-15T19:16:27.910284Z",
     "shell.execute_reply": "2025-06-15T19:16:27.909267Z"
    },
    "papermill": {
     "duration": 1.990929,
     "end_time": "2025-06-15T19:16:27.912557",
     "exception": false,
     "start_time": "2025-06-15T19:16:25.921628",
     "status": "completed"
    },
    "tags": []
   },
   "outputs": [
    {
     "name": "stdout",
     "output_type": "stream",
     "text": [
      "Performing cross-validation...\n",
      "CV Score: 0.6577 (+/- 0.0142)\n"
     ]
    }
   ],
   "source": [
    "# Cross-validation\n",
    "print(\"Performing cross-validation...\")\n",
    "cv_scores = cross_val_score(base_model, X_train_scaled, y_train, cv=5, scoring='accuracy')\n",
    "print(f\"CV Score: {cv_scores.mean():.4f} (+/- {cv_scores.std() * 2:.4f})\")"
   ]
  },
  {
   "cell_type": "code",
   "execution_count": 13,
   "id": "7e31f815",
   "metadata": {
    "execution": {
     "iopub.execute_input": "2025-06-15T19:16:27.935558Z",
     "iopub.status.busy": "2025-06-15T19:16:27.935205Z",
     "iopub.status.idle": "2025-06-15T19:16:28.266294Z",
     "shell.execute_reply": "2025-06-15T19:16:28.265598Z"
    },
    "papermill": {
     "duration": 0.344417,
     "end_time": "2025-06-15T19:16:28.268126",
     "exception": false,
     "start_time": "2025-06-15T19:16:27.923709",
     "status": "completed"
    },
    "tags": []
   },
   "outputs": [
    {
     "name": "stdout",
     "output_type": "stream",
     "text": [
      "Base model validation accuracy: 0.6675\n"
     ]
    }
   ],
   "source": [
    "# Fit base model\n",
    "base_model.fit(X_train_scaled, y_train)\n",
    "y_pred_base = base_model.predict(X_val_scaled)\n",
    "base_accuracy = accuracy_score(y_val, y_pred_base)\n",
    "print(f\"Base model validation accuracy: {base_accuracy:.4f}\")"
   ]
  },
  {
   "cell_type": "code",
   "execution_count": 14,
   "id": "0caa1c2f",
   "metadata": {
    "execution": {
     "iopub.execute_input": "2025-06-15T19:16:28.290257Z",
     "iopub.status.busy": "2025-06-15T19:16:28.289707Z",
     "iopub.status.idle": "2025-06-15T19:16:28.299543Z",
     "shell.execute_reply": "2025-06-15T19:16:28.298705Z"
    },
    "papermill": {
     "duration": 0.022686,
     "end_time": "2025-06-15T19:16:28.301361",
     "exception": false,
     "start_time": "2025-06-15T19:16:28.278675",
     "status": "completed"
    },
    "tags": []
   },
   "outputs": [
    {
     "name": "stdout",
     "output_type": "stream",
     "text": [
      "\n",
      "Hyperparameter tuning for Logistic Regression...\n"
     ]
    }
   ],
   "source": [
    "# Hyperparameter tuning for Logistic Regression\n",
    "print(f\"\\nHyperparameter tuning for Logistic Regression...\")\n",
    "\n",
    "param_grid = {\n",
    "    'C': [0.01, 0.05, 0.1, 0.5, 1.0, 5.0, 10.0],  # Regularization strength\n",
    "    'solver': ['lbfgs', 'liblinear', 'saga'],       # Different solvers\n",
    "    'max_iter': [1500, 2000, 3000]                 # Ensure convergence\n",
    "}\n",
    "\n",
    "tuned_model = LogisticRegression(\n",
    "    multi_class='multinomial',\n",
    "    class_weight='balanced',\n",
    "    random_state=42\n",
    ")"
   ]
  },
  {
   "cell_type": "code",
   "execution_count": 15,
   "id": "d4eb84a3",
   "metadata": {
    "execution": {
     "iopub.execute_input": "2025-06-15T19:16:28.323363Z",
     "iopub.status.busy": "2025-06-15T19:16:28.323026Z",
     "iopub.status.idle": "2025-06-15T19:28:35.620417Z",
     "shell.execute_reply": "2025-06-15T19:28:35.619531Z"
    },
    "papermill": {
     "duration": 727.310808,
     "end_time": "2025-06-15T19:28:35.622788",
     "exception": false,
     "start_time": "2025-06-15T19:16:28.311980",
     "status": "completed"
    },
    "tags": []
   },
   "outputs": [
    {
     "name": "stdout",
     "output_type": "stream",
     "text": [
      "Performing grid search...\n",
      "Fitting 5 folds for each of 63 candidates, totalling 315 fits\n"
     ]
    },
    {
     "name": "stderr",
     "output_type": "stream",
     "text": [
      "/usr/local/lib/python3.11/dist-packages/sklearn/linear_model/_sag.py:350: ConvergenceWarning: The max_iter was reached which means the coef_ did not converge\n",
      "  warnings.warn(\n",
      "/usr/local/lib/python3.11/dist-packages/sklearn/linear_model/_sag.py:350: ConvergenceWarning: The max_iter was reached which means the coef_ did not converge\n",
      "  warnings.warn(\n",
      "/usr/local/lib/python3.11/dist-packages/sklearn/linear_model/_sag.py:350: ConvergenceWarning: The max_iter was reached which means the coef_ did not converge\n",
      "  warnings.warn(\n",
      "/usr/local/lib/python3.11/dist-packages/sklearn/linear_model/_sag.py:350: ConvergenceWarning: The max_iter was reached which means the coef_ did not converge\n",
      "  warnings.warn(\n",
      "/usr/local/lib/python3.11/dist-packages/sklearn/linear_model/_sag.py:350: ConvergenceWarning: The max_iter was reached which means the coef_ did not converge\n",
      "  warnings.warn(\n",
      "/usr/local/lib/python3.11/dist-packages/sklearn/linear_model/_sag.py:350: ConvergenceWarning: The max_iter was reached which means the coef_ did not converge\n",
      "  warnings.warn(\n",
      "/usr/local/lib/python3.11/dist-packages/sklearn/linear_model/_sag.py:350: ConvergenceWarning: The max_iter was reached which means the coef_ did not converge\n",
      "  warnings.warn(\n",
      "/usr/local/lib/python3.11/dist-packages/sklearn/linear_model/_sag.py:350: ConvergenceWarning: The max_iter was reached which means the coef_ did not converge\n",
      "  warnings.warn(\n",
      "/usr/local/lib/python3.11/dist-packages/sklearn/linear_model/_sag.py:350: ConvergenceWarning: The max_iter was reached which means the coef_ did not converge\n",
      "  warnings.warn(\n",
      "/usr/local/lib/python3.11/dist-packages/sklearn/linear_model/_sag.py:350: ConvergenceWarning: The max_iter was reached which means the coef_ did not converge\n",
      "  warnings.warn(\n",
      "/usr/local/lib/python3.11/dist-packages/sklearn/linear_model/_sag.py:350: ConvergenceWarning: The max_iter was reached which means the coef_ did not converge\n",
      "  warnings.warn(\n",
      "/usr/local/lib/python3.11/dist-packages/sklearn/linear_model/_sag.py:350: ConvergenceWarning: The max_iter was reached which means the coef_ did not converge\n",
      "  warnings.warn(\n",
      "/usr/local/lib/python3.11/dist-packages/sklearn/linear_model/_sag.py:350: ConvergenceWarning: The max_iter was reached which means the coef_ did not converge\n",
      "  warnings.warn(\n",
      "/usr/local/lib/python3.11/dist-packages/sklearn/linear_model/_sag.py:350: ConvergenceWarning: The max_iter was reached which means the coef_ did not converge\n",
      "  warnings.warn(\n",
      "/usr/local/lib/python3.11/dist-packages/sklearn/linear_model/_sag.py:350: ConvergenceWarning: The max_iter was reached which means the coef_ did not converge\n",
      "  warnings.warn(\n",
      "/usr/local/lib/python3.11/dist-packages/sklearn/linear_model/_sag.py:350: ConvergenceWarning: The max_iter was reached which means the coef_ did not converge\n",
      "  warnings.warn(\n",
      "/usr/local/lib/python3.11/dist-packages/sklearn/linear_model/_sag.py:350: ConvergenceWarning: The max_iter was reached which means the coef_ did not converge\n",
      "  warnings.warn(\n",
      "/usr/local/lib/python3.11/dist-packages/sklearn/linear_model/_sag.py:350: ConvergenceWarning: The max_iter was reached which means the coef_ did not converge\n",
      "  warnings.warn(\n",
      "/usr/local/lib/python3.11/dist-packages/sklearn/linear_model/_sag.py:350: ConvergenceWarning: The max_iter was reached which means the coef_ did not converge\n",
      "  warnings.warn(\n",
      "/usr/local/lib/python3.11/dist-packages/sklearn/linear_model/_sag.py:350: ConvergenceWarning: The max_iter was reached which means the coef_ did not converge\n",
      "  warnings.warn(\n",
      "/usr/local/lib/python3.11/dist-packages/sklearn/linear_model/_sag.py:350: ConvergenceWarning: The max_iter was reached which means the coef_ did not converge\n",
      "  warnings.warn(\n",
      "/usr/local/lib/python3.11/dist-packages/sklearn/linear_model/_sag.py:350: ConvergenceWarning: The max_iter was reached which means the coef_ did not converge\n",
      "  warnings.warn(\n",
      "/usr/local/lib/python3.11/dist-packages/sklearn/linear_model/_sag.py:350: ConvergenceWarning: The max_iter was reached which means the coef_ did not converge\n",
      "  warnings.warn(\n",
      "/usr/local/lib/python3.11/dist-packages/sklearn/linear_model/_sag.py:350: ConvergenceWarning: The max_iter was reached which means the coef_ did not converge\n",
      "  warnings.warn(\n",
      "/usr/local/lib/python3.11/dist-packages/sklearn/linear_model/_sag.py:350: ConvergenceWarning: The max_iter was reached which means the coef_ did not converge\n",
      "  warnings.warn(\n",
      "/usr/local/lib/python3.11/dist-packages/sklearn/linear_model/_sag.py:350: ConvergenceWarning: The max_iter was reached which means the coef_ did not converge\n",
      "  warnings.warn(\n",
      "/usr/local/lib/python3.11/dist-packages/sklearn/linear_model/_sag.py:350: ConvergenceWarning: The max_iter was reached which means the coef_ did not converge\n",
      "  warnings.warn(\n",
      "/usr/local/lib/python3.11/dist-packages/sklearn/linear_model/_sag.py:350: ConvergenceWarning: The max_iter was reached which means the coef_ did not converge\n",
      "  warnings.warn(\n",
      "/usr/local/lib/python3.11/dist-packages/sklearn/linear_model/_sag.py:350: ConvergenceWarning: The max_iter was reached which means the coef_ did not converge\n",
      "  warnings.warn(\n",
      "/usr/local/lib/python3.11/dist-packages/sklearn/linear_model/_sag.py:350: ConvergenceWarning: The max_iter was reached which means the coef_ did not converge\n",
      "  warnings.warn(\n",
      "/usr/local/lib/python3.11/dist-packages/sklearn/linear_model/_sag.py:350: ConvergenceWarning: The max_iter was reached which means the coef_ did not converge\n",
      "  warnings.warn(\n",
      "/usr/local/lib/python3.11/dist-packages/sklearn/linear_model/_sag.py:350: ConvergenceWarning: The max_iter was reached which means the coef_ did not converge\n",
      "  warnings.warn(\n",
      "/usr/local/lib/python3.11/dist-packages/sklearn/linear_model/_sag.py:350: ConvergenceWarning: The max_iter was reached which means the coef_ did not converge\n",
      "  warnings.warn(\n",
      "/usr/local/lib/python3.11/dist-packages/sklearn/linear_model/_sag.py:350: ConvergenceWarning: The max_iter was reached which means the coef_ did not converge\n",
      "  warnings.warn(\n",
      "/usr/local/lib/python3.11/dist-packages/sklearn/linear_model/_sag.py:350: ConvergenceWarning: The max_iter was reached which means the coef_ did not converge\n",
      "  warnings.warn(\n",
      "/usr/local/lib/python3.11/dist-packages/sklearn/linear_model/_sag.py:350: ConvergenceWarning: The max_iter was reached which means the coef_ did not converge\n",
      "  warnings.warn(\n",
      "/usr/local/lib/python3.11/dist-packages/sklearn/linear_model/_sag.py:350: ConvergenceWarning: The max_iter was reached which means the coef_ did not converge\n",
      "  warnings.warn(\n",
      "/usr/local/lib/python3.11/dist-packages/sklearn/linear_model/_sag.py:350: ConvergenceWarning: The max_iter was reached which means the coef_ did not converge\n",
      "  warnings.warn(\n",
      "/usr/local/lib/python3.11/dist-packages/sklearn/linear_model/_sag.py:350: ConvergenceWarning: The max_iter was reached which means the coef_ did not converge\n",
      "  warnings.warn(\n",
      "/usr/local/lib/python3.11/dist-packages/sklearn/linear_model/_sag.py:350: ConvergenceWarning: The max_iter was reached which means the coef_ did not converge\n",
      "  warnings.warn(\n",
      "/usr/local/lib/python3.11/dist-packages/sklearn/linear_model/_sag.py:350: ConvergenceWarning: The max_iter was reached which means the coef_ did not converge\n",
      "  warnings.warn(\n",
      "/usr/local/lib/python3.11/dist-packages/sklearn/linear_model/_sag.py:350: ConvergenceWarning: The max_iter was reached which means the coef_ did not converge\n",
      "  warnings.warn(\n",
      "/usr/local/lib/python3.11/dist-packages/sklearn/linear_model/_sag.py:350: ConvergenceWarning: The max_iter was reached which means the coef_ did not converge\n",
      "  warnings.warn(\n",
      "/usr/local/lib/python3.11/dist-packages/sklearn/linear_model/_sag.py:350: ConvergenceWarning: The max_iter was reached which means the coef_ did not converge\n",
      "  warnings.warn(\n",
      "/usr/local/lib/python3.11/dist-packages/sklearn/linear_model/_sag.py:350: ConvergenceWarning: The max_iter was reached which means the coef_ did not converge\n",
      "  warnings.warn(\n",
      "/usr/local/lib/python3.11/dist-packages/sklearn/linear_model/_sag.py:350: ConvergenceWarning: The max_iter was reached which means the coef_ did not converge\n",
      "  warnings.warn(\n",
      "/usr/local/lib/python3.11/dist-packages/sklearn/linear_model/_sag.py:350: ConvergenceWarning: The max_iter was reached which means the coef_ did not converge\n",
      "  warnings.warn(\n",
      "/usr/local/lib/python3.11/dist-packages/sklearn/linear_model/_sag.py:350: ConvergenceWarning: The max_iter was reached which means the coef_ did not converge\n",
      "  warnings.warn(\n",
      "/usr/local/lib/python3.11/dist-packages/sklearn/linear_model/_sag.py:350: ConvergenceWarning: The max_iter was reached which means the coef_ did not converge\n",
      "  warnings.warn(\n",
      "/usr/local/lib/python3.11/dist-packages/sklearn/linear_model/_sag.py:350: ConvergenceWarning: The max_iter was reached which means the coef_ did not converge\n",
      "  warnings.warn(\n",
      "/usr/local/lib/python3.11/dist-packages/sklearn/linear_model/_sag.py:350: ConvergenceWarning: The max_iter was reached which means the coef_ did not converge\n",
      "  warnings.warn(\n",
      "/usr/local/lib/python3.11/dist-packages/sklearn/linear_model/_sag.py:350: ConvergenceWarning: The max_iter was reached which means the coef_ did not converge\n",
      "  warnings.warn(\n",
      "/usr/local/lib/python3.11/dist-packages/sklearn/linear_model/_sag.py:350: ConvergenceWarning: The max_iter was reached which means the coef_ did not converge\n",
      "  warnings.warn(\n",
      "/usr/local/lib/python3.11/dist-packages/sklearn/linear_model/_sag.py:350: ConvergenceWarning: The max_iter was reached which means the coef_ did not converge\n",
      "  warnings.warn(\n",
      "/usr/local/lib/python3.11/dist-packages/sklearn/linear_model/_sag.py:350: ConvergenceWarning: The max_iter was reached which means the coef_ did not converge\n",
      "  warnings.warn(\n",
      "/usr/local/lib/python3.11/dist-packages/sklearn/linear_model/_sag.py:350: ConvergenceWarning: The max_iter was reached which means the coef_ did not converge\n",
      "  warnings.warn(\n",
      "/usr/local/lib/python3.11/dist-packages/sklearn/linear_model/_sag.py:350: ConvergenceWarning: The max_iter was reached which means the coef_ did not converge\n",
      "  warnings.warn(\n",
      "/usr/local/lib/python3.11/dist-packages/sklearn/linear_model/_sag.py:350: ConvergenceWarning: The max_iter was reached which means the coef_ did not converge\n",
      "  warnings.warn(\n",
      "/usr/local/lib/python3.11/dist-packages/sklearn/linear_model/_sag.py:350: ConvergenceWarning: The max_iter was reached which means the coef_ did not converge\n",
      "  warnings.warn(\n",
      "/usr/local/lib/python3.11/dist-packages/sklearn/linear_model/_sag.py:350: ConvergenceWarning: The max_iter was reached which means the coef_ did not converge\n",
      "  warnings.warn(\n",
      "/usr/local/lib/python3.11/dist-packages/sklearn/linear_model/_sag.py:350: ConvergenceWarning: The max_iter was reached which means the coef_ did not converge\n",
      "  warnings.warn(\n",
      "/usr/local/lib/python3.11/dist-packages/sklearn/linear_model/_sag.py:350: ConvergenceWarning: The max_iter was reached which means the coef_ did not converge\n",
      "  warnings.warn(\n",
      "/usr/local/lib/python3.11/dist-packages/sklearn/linear_model/_sag.py:350: ConvergenceWarning: The max_iter was reached which means the coef_ did not converge\n",
      "  warnings.warn(\n",
      "/usr/local/lib/python3.11/dist-packages/sklearn/linear_model/_sag.py:350: ConvergenceWarning: The max_iter was reached which means the coef_ did not converge\n",
      "  warnings.warn(\n",
      "/usr/local/lib/python3.11/dist-packages/sklearn/linear_model/_sag.py:350: ConvergenceWarning: The max_iter was reached which means the coef_ did not converge\n",
      "  warnings.warn(\n",
      "/usr/local/lib/python3.11/dist-packages/sklearn/linear_model/_sag.py:350: ConvergenceWarning: The max_iter was reached which means the coef_ did not converge\n",
      "  warnings.warn(\n",
      "/usr/local/lib/python3.11/dist-packages/sklearn/linear_model/_sag.py:350: ConvergenceWarning: The max_iter was reached which means the coef_ did not converge\n",
      "  warnings.warn(\n",
      "/usr/local/lib/python3.11/dist-packages/sklearn/linear_model/_sag.py:350: ConvergenceWarning: The max_iter was reached which means the coef_ did not converge\n",
      "  warnings.warn(\n",
      "/usr/local/lib/python3.11/dist-packages/sklearn/linear_model/_sag.py:350: ConvergenceWarning: The max_iter was reached which means the coef_ did not converge\n",
      "  warnings.warn(\n",
      "/usr/local/lib/python3.11/dist-packages/sklearn/linear_model/_sag.py:350: ConvergenceWarning: The max_iter was reached which means the coef_ did not converge\n",
      "  warnings.warn(\n",
      "/usr/local/lib/python3.11/dist-packages/sklearn/linear_model/_sag.py:350: ConvergenceWarning: The max_iter was reached which means the coef_ did not converge\n",
      "  warnings.warn(\n",
      "/usr/local/lib/python3.11/dist-packages/sklearn/linear_model/_sag.py:350: ConvergenceWarning: The max_iter was reached which means the coef_ did not converge\n",
      "  warnings.warn(\n",
      "/usr/local/lib/python3.11/dist-packages/sklearn/linear_model/_sag.py:350: ConvergenceWarning: The max_iter was reached which means the coef_ did not converge\n",
      "  warnings.warn(\n",
      "/usr/local/lib/python3.11/dist-packages/sklearn/linear_model/_sag.py:350: ConvergenceWarning: The max_iter was reached which means the coef_ did not converge\n",
      "  warnings.warn(\n",
      "/usr/local/lib/python3.11/dist-packages/sklearn/linear_model/_sag.py:350: ConvergenceWarning: The max_iter was reached which means the coef_ did not converge\n",
      "  warnings.warn(\n",
      "/usr/local/lib/python3.11/dist-packages/sklearn/linear_model/_sag.py:350: ConvergenceWarning: The max_iter was reached which means the coef_ did not converge\n",
      "  warnings.warn(\n",
      "/usr/local/lib/python3.11/dist-packages/sklearn/linear_model/_sag.py:350: ConvergenceWarning: The max_iter was reached which means the coef_ did not converge\n",
      "  warnings.warn(\n",
      "/usr/local/lib/python3.11/dist-packages/sklearn/linear_model/_sag.py:350: ConvergenceWarning: The max_iter was reached which means the coef_ did not converge\n",
      "  warnings.warn(\n",
      "/usr/local/lib/python3.11/dist-packages/sklearn/linear_model/_sag.py:350: ConvergenceWarning: The max_iter was reached which means the coef_ did not converge\n",
      "  warnings.warn(\n",
      "/usr/local/lib/python3.11/dist-packages/sklearn/linear_model/_sag.py:350: ConvergenceWarning: The max_iter was reached which means the coef_ did not converge\n",
      "  warnings.warn(\n",
      "/usr/local/lib/python3.11/dist-packages/sklearn/linear_model/_sag.py:350: ConvergenceWarning: The max_iter was reached which means the coef_ did not converge\n",
      "  warnings.warn(\n",
      "/usr/local/lib/python3.11/dist-packages/sklearn/linear_model/_sag.py:350: ConvergenceWarning: The max_iter was reached which means the coef_ did not converge\n",
      "  warnings.warn(\n",
      "/usr/local/lib/python3.11/dist-packages/sklearn/linear_model/_sag.py:350: ConvergenceWarning: The max_iter was reached which means the coef_ did not converge\n",
      "  warnings.warn(\n",
      "/usr/local/lib/python3.11/dist-packages/sklearn/linear_model/_sag.py:350: ConvergenceWarning: The max_iter was reached which means the coef_ did not converge\n",
      "  warnings.warn(\n",
      "/usr/local/lib/python3.11/dist-packages/sklearn/linear_model/_sag.py:350: ConvergenceWarning: The max_iter was reached which means the coef_ did not converge\n",
      "  warnings.warn(\n",
      "/usr/local/lib/python3.11/dist-packages/sklearn/linear_model/_sag.py:350: ConvergenceWarning: The max_iter was reached which means the coef_ did not converge\n",
      "  warnings.warn(\n",
      "/usr/local/lib/python3.11/dist-packages/sklearn/linear_model/_sag.py:350: ConvergenceWarning: The max_iter was reached which means the coef_ did not converge\n",
      "  warnings.warn(\n",
      "/usr/local/lib/python3.11/dist-packages/sklearn/linear_model/_sag.py:350: ConvergenceWarning: The max_iter was reached which means the coef_ did not converge\n",
      "  warnings.warn(\n",
      "/usr/local/lib/python3.11/dist-packages/sklearn/linear_model/_sag.py:350: ConvergenceWarning: The max_iter was reached which means the coef_ did not converge\n",
      "  warnings.warn(\n",
      "/usr/local/lib/python3.11/dist-packages/sklearn/linear_model/_sag.py:350: ConvergenceWarning: The max_iter was reached which means the coef_ did not converge\n",
      "  warnings.warn(\n",
      "/usr/local/lib/python3.11/dist-packages/sklearn/linear_model/_sag.py:350: ConvergenceWarning: The max_iter was reached which means the coef_ did not converge\n",
      "  warnings.warn(\n",
      "/usr/local/lib/python3.11/dist-packages/sklearn/linear_model/_sag.py:350: ConvergenceWarning: The max_iter was reached which means the coef_ did not converge\n",
      "  warnings.warn(\n",
      "/usr/local/lib/python3.11/dist-packages/sklearn/linear_model/_sag.py:350: ConvergenceWarning: The max_iter was reached which means the coef_ did not converge\n",
      "  warnings.warn(\n",
      "/usr/local/lib/python3.11/dist-packages/sklearn/linear_model/_sag.py:350: ConvergenceWarning: The max_iter was reached which means the coef_ did not converge\n",
      "  warnings.warn(\n",
      "/usr/local/lib/python3.11/dist-packages/sklearn/linear_model/_sag.py:350: ConvergenceWarning: The max_iter was reached which means the coef_ did not converge\n",
      "  warnings.warn(\n",
      "/usr/local/lib/python3.11/dist-packages/sklearn/linear_model/_sag.py:350: ConvergenceWarning: The max_iter was reached which means the coef_ did not converge\n",
      "  warnings.warn(\n",
      "/usr/local/lib/python3.11/dist-packages/sklearn/linear_model/_sag.py:350: ConvergenceWarning: The max_iter was reached which means the coef_ did not converge\n",
      "  warnings.warn(\n",
      "/usr/local/lib/python3.11/dist-packages/sklearn/linear_model/_sag.py:350: ConvergenceWarning: The max_iter was reached which means the coef_ did not converge\n",
      "  warnings.warn(\n",
      "/usr/local/lib/python3.11/dist-packages/sklearn/linear_model/_sag.py:350: ConvergenceWarning: The max_iter was reached which means the coef_ did not converge\n",
      "  warnings.warn(\n",
      "/usr/local/lib/python3.11/dist-packages/sklearn/linear_model/_sag.py:350: ConvergenceWarning: The max_iter was reached which means the coef_ did not converge\n",
      "  warnings.warn(\n",
      "/usr/local/lib/python3.11/dist-packages/sklearn/linear_model/_sag.py:350: ConvergenceWarning: The max_iter was reached which means the coef_ did not converge\n",
      "  warnings.warn(\n",
      "/usr/local/lib/python3.11/dist-packages/sklearn/linear_model/_sag.py:350: ConvergenceWarning: The max_iter was reached which means the coef_ did not converge\n",
      "  warnings.warn(\n",
      "/usr/local/lib/python3.11/dist-packages/sklearn/linear_model/_sag.py:350: ConvergenceWarning: The max_iter was reached which means the coef_ did not converge\n",
      "  warnings.warn(\n",
      "/usr/local/lib/python3.11/dist-packages/sklearn/linear_model/_sag.py:350: ConvergenceWarning: The max_iter was reached which means the coef_ did not converge\n",
      "  warnings.warn(\n",
      "/usr/local/lib/python3.11/dist-packages/sklearn/linear_model/_sag.py:350: ConvergenceWarning: The max_iter was reached which means the coef_ did not converge\n",
      "  warnings.warn(\n"
     ]
    }
   ],
   "source": [
    "grid_search = GridSearchCV(\n",
    "    tuned_model, \n",
    "    param_grid, \n",
    "    cv=5,  # 5-fold CV for better reliability\n",
    "    scoring='accuracy',\n",
    "    n_jobs=-1,\n",
    "    verbose=1\n",
    ")\n",
    "\n",
    "print(\"Performing grid search...\")\n",
    "grid_search.fit(X_train_scaled, y_train)\n",
    "final_model = grid_search.best_estimator_"
   ]
  },
  {
   "cell_type": "code",
   "execution_count": 16,
   "id": "151f74a8",
   "metadata": {
    "execution": {
     "iopub.execute_input": "2025-06-15T19:28:35.743286Z",
     "iopub.status.busy": "2025-06-15T19:28:35.742992Z",
     "iopub.status.idle": "2025-06-15T19:28:35.750326Z",
     "shell.execute_reply": "2025-06-15T19:28:35.749366Z"
    },
    "papermill": {
     "duration": 0.109193,
     "end_time": "2025-06-15T19:28:35.751866",
     "exception": false,
     "start_time": "2025-06-15T19:28:35.642673",
     "status": "completed"
    },
    "tags": []
   },
   "outputs": [
    {
     "name": "stdout",
     "output_type": "stream",
     "text": [
      "\n",
      "Best parameters: {'C': 5.0, 'max_iter': 1500, 'solver': 'lbfgs'}\n",
      "Best CV score: 0.6578\n",
      "Final tuned model accuracy: 0.6675\n"
     ]
    }
   ],
   "source": [
    "# Final validation\n",
    "y_pred_final = final_model.predict(X_val_scaled)\n",
    "final_accuracy = accuracy_score(y_val, y_pred_final)\n",
    "\n",
    "print(f\"\\nBest parameters: {grid_search.best_params_}\")\n",
    "print(f\"Best CV score: {grid_search.best_score_:.4f}\")\n",
    "print(f\"Final tuned model accuracy: {final_accuracy:.4f}\")"
   ]
  },
  {
   "cell_type": "code",
   "execution_count": 17,
   "id": "d194b917",
   "metadata": {
    "execution": {
     "iopub.execute_input": "2025-06-15T19:28:35.775771Z",
     "iopub.status.busy": "2025-06-15T19:28:35.775415Z",
     "iopub.status.idle": "2025-06-15T19:28:35.790259Z",
     "shell.execute_reply": "2025-06-15T19:28:35.789199Z"
    },
    "papermill": {
     "duration": 0.028811,
     "end_time": "2025-06-15T19:28:35.791973",
     "exception": false,
     "start_time": "2025-06-15T19:28:35.763162",
     "status": "completed"
    },
    "tags": []
   },
   "outputs": [
    {
     "name": "stdout",
     "output_type": "stream",
     "text": [
      "\n",
      "Detailed Classification Report:\n",
      "              precision    recall  f1-score   support\n",
      "\n",
      "        farm       0.43      0.61      0.50       168\n",
      "      forest       0.96      0.67      0.79      1232\n",
      "       grass       0.15      0.67      0.25        39\n",
      "  impervious       0.69      0.75      0.72       134\n",
      "     orchard       0.03      0.67      0.06         6\n",
      "       water       0.23      0.67      0.34        21\n",
      "\n",
      "    accuracy                           0.67      1600\n",
      "   macro avg       0.42      0.67      0.44      1600\n",
      "weighted avg       0.85      0.67      0.73      1600\n",
      "\n"
     ]
    }
   ],
   "source": [
    "# Detailed classification report\n",
    "target_names = [str(c) for c in label_encoder.classes_]\n",
    "print(f\"\\nDetailed Classification Report:\")\n",
    "print(classification_report(y_val, y_pred_final, target_names=target_names))"
   ]
  },
  {
   "cell_type": "code",
   "execution_count": 18,
   "id": "9997503b",
   "metadata": {
    "execution": {
     "iopub.execute_input": "2025-06-15T19:28:35.816216Z",
     "iopub.status.busy": "2025-06-15T19:28:35.815615Z",
     "iopub.status.idle": "2025-06-15T19:28:35.820662Z",
     "shell.execute_reply": "2025-06-15T19:28:35.819553Z"
    },
    "papermill": {
     "duration": 0.018684,
     "end_time": "2025-06-15T19:28:35.822285",
     "exception": false,
     "start_time": "2025-06-15T19:28:35.803601",
     "status": "completed"
    },
    "tags": []
   },
   "outputs": [
    {
     "name": "stdout",
     "output_type": "stream",
     "text": [
      "\n",
      "============================================================\n",
      "PROCESSING TEST DATA\n",
      "============================================================\n"
     ]
    }
   ],
   "source": [
    "# Load and preprocess test data\n",
    "print(f\"\\n\" + \"=\"*60)\n",
    "print(\"PROCESSING TEST DATA\")\n",
    "print(\"=\"*60)"
   ]
  },
  {
   "cell_type": "code",
   "execution_count": 19,
   "id": "5b0f458e",
   "metadata": {
    "execution": {
     "iopub.execute_input": "2025-06-15T19:28:35.845642Z",
     "iopub.status.busy": "2025-06-15T19:28:35.845316Z",
     "iopub.status.idle": "2025-06-15T19:28:35.883839Z",
     "shell.execute_reply": "2025-06-15T19:28:35.882663Z"
    },
    "papermill": {
     "duration": 0.05198,
     "end_time": "2025-06-15T19:28:35.885346",
     "exception": false,
     "start_time": "2025-06-15T19:28:35.833366",
     "status": "completed"
    },
    "tags": []
   },
   "outputs": [
    {
     "name": "stdout",
     "output_type": "stream",
     "text": [
      "Test data shape: (2845, 29)\n"
     ]
    }
   ],
   "source": [
    "test_data = pd.read_csv(\"/kaggle/input/summer-analytics-mid-hackathon/hacktest.csv\")\n",
    "print(f\"Test data shape: {test_data.shape}\")"
   ]
  },
  {
   "cell_type": "code",
   "execution_count": 20,
   "id": "ce07b034",
   "metadata": {
    "execution": {
     "iopub.execute_input": "2025-06-15T19:28:35.908985Z",
     "iopub.status.busy": "2025-06-15T19:28:35.908687Z",
     "iopub.status.idle": "2025-06-15T19:28:35.913516Z",
     "shell.execute_reply": "2025-06-15T19:28:35.912566Z"
    },
    "papermill": {
     "duration": 0.018594,
     "end_time": "2025-06-15T19:28:35.915348",
     "exception": false,
     "start_time": "2025-06-15T19:28:35.896754",
     "status": "completed"
    },
    "tags": []
   },
   "outputs": [],
   "source": [
    "# Store test IDs\n",
    "test_ids = test_data['ID'].copy()"
   ]
  },
  {
   "cell_type": "code",
   "execution_count": 21,
   "id": "b7292a27",
   "metadata": {
    "execution": {
     "iopub.execute_input": "2025-06-15T19:28:35.939249Z",
     "iopub.status.busy": "2025-06-15T19:28:35.938948Z",
     "iopub.status.idle": "2025-06-15T19:28:35.949744Z",
     "shell.execute_reply": "2025-06-15T19:28:35.948651Z"
    },
    "papermill": {
     "duration": 0.024466,
     "end_time": "2025-06-15T19:28:35.951315",
     "exception": false,
     "start_time": "2025-06-15T19:28:35.926849",
     "status": "completed"
    },
    "tags": []
   },
   "outputs": [
    {
     "name": "stdout",
     "output_type": "stream",
     "text": [
      "Dropped unnamed columns: ['Unnamed: 0']\n"
     ]
    }
   ],
   "source": [
    "# Preprocess test data using same logic as training\n",
    "preprocessing_components = {'fill_values': fill_values}\n",
    "test_processed = preprocess_data(test_data, is_training=False, \n",
    "                                preprocessing_components=preprocessing_components)"
   ]
  },
  {
   "cell_type": "code",
   "execution_count": 22,
   "id": "6651adf6",
   "metadata": {
    "execution": {
     "iopub.execute_input": "2025-06-15T19:28:35.978422Z",
     "iopub.status.busy": "2025-06-15T19:28:35.978100Z",
     "iopub.status.idle": "2025-06-15T19:28:35.985515Z",
     "shell.execute_reply": "2025-06-15T19:28:35.984589Z"
    },
    "papermill": {
     "duration": 0.023799,
     "end_time": "2025-06-15T19:28:35.987262",
     "exception": false,
     "start_time": "2025-06-15T19:28:35.963463",
     "status": "completed"
    },
    "tags": []
   },
   "outputs": [],
   "source": [
    "# Apply same transformations as training data\n",
    "test_features = test_processed.drop(columns=['ID'])\n",
    "\n",
    "# Remove high correlation features (same as training)\n",
    "test_features = test_features.drop(columns=high_corr_features, errors='ignore')"
   ]
  },
  {
   "cell_type": "code",
   "execution_count": 23,
   "id": "1b34a1f3",
   "metadata": {
    "execution": {
     "iopub.execute_input": "2025-06-15T19:28:36.012657Z",
     "iopub.status.busy": "2025-06-15T19:28:36.012297Z",
     "iopub.status.idle": "2025-06-15T19:28:36.017099Z",
     "shell.execute_reply": "2025-06-15T19:28:36.016190Z"
    },
    "papermill": {
     "duration": 0.019317,
     "end_time": "2025-06-15T19:28:36.018638",
     "exception": false,
     "start_time": "2025-06-15T19:28:35.999321",
     "status": "completed"
    },
    "tags": []
   },
   "outputs": [],
   "source": [
    "# Ensure same columns as training\n",
    "missing_cols = set(selected_features) - set(test_features.columns)\n",
    "for col in missing_cols:\n",
    "    test_features[col] = 0  # Add missing columns with 0"
   ]
  },
  {
   "cell_type": "code",
   "execution_count": 24,
   "id": "8c636bc7",
   "metadata": {
    "execution": {
     "iopub.execute_input": "2025-06-15T19:28:36.043812Z",
     "iopub.status.busy": "2025-06-15T19:28:36.043410Z",
     "iopub.status.idle": "2025-06-15T19:28:36.049802Z",
     "shell.execute_reply": "2025-06-15T19:28:36.048688Z"
    },
    "papermill": {
     "duration": 0.020719,
     "end_time": "2025-06-15T19:28:36.051630",
     "exception": false,
     "start_time": "2025-06-15T19:28:36.030911",
     "status": "completed"
    },
    "tags": []
   },
   "outputs": [],
   "source": [
    "# Add extra columns that might exist in test but not selected\n",
    "extra_cols = set(test_features.columns) - set(selected_features)\n",
    "if extra_cols:\n",
    "    test_features = test_features.drop(columns=list(extra_cols))"
   ]
  },
  {
   "cell_type": "code",
   "execution_count": 25,
   "id": "7853d816",
   "metadata": {
    "execution": {
     "iopub.execute_input": "2025-06-15T19:28:36.076123Z",
     "iopub.status.busy": "2025-06-15T19:28:36.075809Z",
     "iopub.status.idle": "2025-06-15T19:28:36.113224Z",
     "shell.execute_reply": "2025-06-15T19:28:36.112260Z"
    },
    "papermill": {
     "duration": 0.051683,
     "end_time": "2025-06-15T19:28:36.114908",
     "exception": false,
     "start_time": "2025-06-15T19:28:36.063225",
     "status": "completed"
    },
    "tags": []
   },
   "outputs": [],
   "source": [
    "# Select same features as training\n",
    "test_features = test_features[selected_features]\n",
    "\n",
    "# Scale test data using the same scaler\n",
    "test_scaled = scaler.transform(test_features)"
   ]
  },
  {
   "cell_type": "code",
   "execution_count": 26,
   "id": "a4bef545",
   "metadata": {
    "execution": {
     "iopub.execute_input": "2025-06-15T19:28:36.138744Z",
     "iopub.status.busy": "2025-06-15T19:28:36.138403Z",
     "iopub.status.idle": "2025-06-15T19:28:36.152991Z",
     "shell.execute_reply": "2025-06-15T19:28:36.151945Z"
    },
    "papermill": {
     "duration": 0.028277,
     "end_time": "2025-06-15T19:28:36.154540",
     "exception": false,
     "start_time": "2025-06-15T19:28:36.126263",
     "status": "completed"
    },
    "tags": []
   },
   "outputs": [
    {
     "name": "stdout",
     "output_type": "stream",
     "text": [
      "\n",
      "Making predictions...\n"
     ]
    }
   ],
   "source": [
    "# Make predictions\n",
    "print(\"\\nMaking predictions...\")\n",
    "predictions = final_model.predict(test_scaled)\n",
    "prediction_probabilities = final_model.predict_proba(test_scaled)\n",
    "\n",
    "# Convert back to original class labels\n",
    "predictions_original = label_encoder.inverse_transform(predictions)\n",
    "\n",
    "# Create submission\n",
    "result = pd.DataFrame({\n",
    "    'ID': test_ids,\n",
    "    'class': predictions_original\n",
    "})"
   ]
  },
  {
   "cell_type": "code",
   "execution_count": 27,
   "id": "7c1e6371",
   "metadata": {
    "execution": {
     "iopub.execute_input": "2025-06-15T19:28:36.178564Z",
     "iopub.status.busy": "2025-06-15T19:28:36.178220Z",
     "iopub.status.idle": "2025-06-15T19:28:36.184687Z",
     "shell.execute_reply": "2025-06-15T19:28:36.183537Z"
    },
    "papermill": {
     "duration": 0.020165,
     "end_time": "2025-06-15T19:28:36.186118",
     "exception": false,
     "start_time": "2025-06-15T19:28:36.165953",
     "status": "completed"
    },
    "tags": []
   },
   "outputs": [
    {
     "name": "stdout",
     "output_type": "stream",
     "text": [
      "\n",
      "Prediction distribution:\n",
      "forest        922\n",
      "farm          620\n",
      "grass         449\n",
      "impervious    416\n",
      "orchard       241\n",
      "water         197\n",
      "Name: count, dtype: int64\n"
     ]
    }
   ],
   "source": [
    "print(f\"\\nPrediction distribution:\")\n",
    "print(pd.Series(predictions_original).value_counts())"
   ]
  },
  {
   "cell_type": "code",
   "execution_count": 28,
   "id": "0021b3e0",
   "metadata": {
    "execution": {
     "iopub.execute_input": "2025-06-15T19:28:36.210106Z",
     "iopub.status.busy": "2025-06-15T19:28:36.209813Z",
     "iopub.status.idle": "2025-06-15T19:28:36.216038Z",
     "shell.execute_reply": "2025-06-15T19:28:36.215090Z"
    },
    "papermill": {
     "duration": 0.019998,
     "end_time": "2025-06-15T19:28:36.217623",
     "exception": false,
     "start_time": "2025-06-15T19:28:36.197625",
     "status": "completed"
    },
    "tags": []
   },
   "outputs": [
    {
     "name": "stdout",
     "output_type": "stream",
     "text": [
      "\n",
      "Prediction confidence statistics:\n",
      "Mean confidence: 0.7221\n",
      "Min confidence: 0.2291\n",
      "Max confidence: 0.9990\n"
     ]
    }
   ],
   "source": [
    "# Show prediction confidence\n",
    "max_probabilities = np.max(prediction_probabilities, axis=1)\n",
    "print(f\"\\nPrediction confidence statistics:\")\n",
    "print(f\"Mean confidence: {max_probabilities.mean():.4f}\")\n",
    "print(f\"Min confidence: {max_probabilities.min():.4f}\")\n",
    "print(f\"Max confidence: {max_probabilities.max():.4f}\")"
   ]
  },
  {
   "cell_type": "code",
   "execution_count": 29,
   "id": "3327dbea",
   "metadata": {
    "execution": {
     "iopub.execute_input": "2025-06-15T19:28:36.242038Z",
     "iopub.status.busy": "2025-06-15T19:28:36.241726Z",
     "iopub.status.idle": "2025-06-15T19:28:36.256800Z",
     "shell.execute_reply": "2025-06-15T19:28:36.255565Z"
    },
    "papermill": {
     "duration": 0.029225,
     "end_time": "2025-06-15T19:28:36.258442",
     "exception": false,
     "start_time": "2025-06-15T19:28:36.229217",
     "status": "completed"
    },
    "tags": []
   },
   "outputs": [
    {
     "name": "stdout",
     "output_type": "stream",
     "text": [
      "\n",
      "Submission saved to 'improved_submission.csv'\n",
      "Expected accuracy improvement: 0.6675 vs your previous 0.11\n"
     ]
    }
   ],
   "source": [
    "# Save submission\n",
    "result.to_csv(\"improved_submission.csv\", index=False)\n",
    "print(f\"\\nSubmission saved to 'improved_submission.csv'\")\n",
    "print(f\"Expected accuracy improvement: {final_accuracy:.4f} vs your previous 0.11\")"
   ]
  },
  {
   "cell_type": "code",
   "execution_count": 30,
   "id": "b19d980f",
   "metadata": {
    "execution": {
     "iopub.execute_input": "2025-06-15T19:28:36.283426Z",
     "iopub.status.busy": "2025-06-15T19:28:36.283140Z",
     "iopub.status.idle": "2025-06-15T19:28:36.290619Z",
     "shell.execute_reply": "2025-06-15T19:28:36.289568Z"
    },
    "papermill": {
     "duration": 0.021611,
     "end_time": "2025-06-15T19:28:36.292209",
     "exception": false,
     "start_time": "2025-06-15T19:28:36.270598",
     "status": "completed"
    },
    "tags": []
   },
   "outputs": [
    {
     "name": "stdout",
     "output_type": "stream",
     "text": [
      "\n",
      "============================================================\n",
      "MODEL INSIGHTS\n",
      "============================================================\n",
      "Selected features: ['20150720_N', '20150602_N', '20150517_N', '20150501_N', '20150415_N', '20150330_N', '20150314_N', '20150226_N', '20150210_N', '20150125_N', '20150109_N', '20141117_N', '20141016_N', '20140813_N', '20140626_N', '20140610_N', '20140525_N', '20140509_N', '20140423_N', '20140407_N', '20140322_N', '20140218_N', '20140202_N', '20140117_N', '20140101_N']\n",
      "Final regularization strength (C): 5.0\n",
      "Solver used: lbfgs\n",
      "Number of iterations: [58]\n"
     ]
    }
   ],
   "source": [
    "# Model insights\n",
    "print(f\"\\n\" + \"=\"*60)\n",
    "print(\"MODEL INSIGHTS\")\n",
    "print(\"=\"*60)\n",
    "print(f\"Selected features: {list(selected_features)}\")\n",
    "print(f\"Final regularization strength (C): {final_model.C}\")\n",
    "print(f\"Solver used: {final_model.solver}\")\n",
    "print(f\"Number of iterations: {final_model.n_iter_}\")\n",
    "\n",
    "# Show coefficients for top features if not too many classes\n",
    "if len(label_encoder.classes_) <= 5:\n",
    "    print(f\"\\nTop feature coefficients by class:\")\n",
    "    coef_df = pd.DataFrame(\n",
    "        final_model.coef_.T,\n",
    "        columns=[f'Class_{cls}' for cls in label_encoder.classes_],\n",
    "        index=selected_features\n",
    "    )\n",
    "    # Show top 5 most important features by absolute coefficient sum\n",
    "    feature_importance = coef_df.abs().sum(axis=1).sort_values(ascending=False)\n",
    "    print(coef_df.loc[feature_importance.head().index])"
   ]
  }
 ],
 "metadata": {
  "kaggle": {
   "accelerator": "none",
   "dataSources": [
    {
     "databundleVersionId": 12585144,
     "sourceId": 104491,
     "sourceType": "competition"
    }
   ],
   "dockerImageVersionId": 31040,
   "isGpuEnabled": false,
   "isInternetEnabled": true,
   "language": "python",
   "sourceType": "notebook"
  },
  "kernelspec": {
   "display_name": "Python 3",
   "language": "python",
   "name": "python3"
  },
  "language_info": {
   "codemirror_mode": {
    "name": "ipython",
    "version": 3
   },
   "file_extension": ".py",
   "mimetype": "text/x-python",
   "name": "python",
   "nbconvert_exporter": "python",
   "pygments_lexer": "ipython3",
   "version": "3.11.11"
  },
  "papermill": {
   "default_parameters": {},
   "duration": 742.682583,
   "end_time": "2025-06-15T19:28:38.925181",
   "environment_variables": {},
   "exception": null,
   "input_path": "__notebook__.ipynb",
   "output_path": "__notebook__.ipynb",
   "parameters": {},
   "start_time": "2025-06-15T19:16:16.242598",
   "version": "2.6.0"
  }
 },
 "nbformat": 4,
 "nbformat_minor": 5
}
